{
 "cells": [
  {
   "cell_type": "code",
   "execution_count": 45,
   "metadata": {},
   "outputs": [
    {
     "name": "stdout",
     "output_type": "stream",
     "text": [
      "The middle int in the first col is : \n"
     ]
    },
    {
     "data": {
      "text/plain": [
       "3"
      ]
     },
     "execution_count": 45,
     "metadata": {},
     "output_type": "execute_result"
    }
   ],
   "source": [
    "import numpy as np\n",
    "import pandas as pd\n",
    "\n",
    "a = np.array([1,2,3,4,5])\n",
    "b = np.array([\n",
    "    [1,2,3,4,5,6],\n",
    "    [9,3,1,43,12,10],\n",
    "    [3,5,6,7,8,9]\n",
    "])\n",
    "b.dtype\n",
    "\n",
    "c = np.array([[[1,2,2,3],[4,5,2,6],[7,2,8,9]],[[1,2,2,3],[4,5,6,2],[7,8,9,2]]])\n",
    "print(\"The middle int in the first col is : \")\n",
    "c.ndim"
   ]
  },
  {
   "cell_type": "code",
   "execution_count": 56,
   "metadata": {},
   "outputs": [
    {
     "data": {
      "text/plain": [
       "array([12, 13, 14, 15, 16, 17, 18, 19, 20, 21, 22, 23, 24, 25, 26, 27, 28,\n",
       "       29, 30, 31, 32, 33, 34, 35, 36, 37, 38, 39, 40, 41, 42, 43, 44, 45,\n",
       "       46, 47, 48, 49, 50, 51, 52, 53, 54, 55, 56, 57, 58, 59, 60, 61, 62,\n",
       "       63, 64, 65, 66, 67, 68, 69, 70, 71, 72, 73, 74, 75, 76, 77, 78, 79,\n",
       "       80, 81, 82, 83, 84, 85, 86, 87, 88, 89])"
      ]
     },
     "execution_count": 56,
     "metadata": {},
     "output_type": "execute_result"
    }
   ],
   "source": [
    "# Numpy Range\n",
    "r = np.arange(12,90)\n",
    "r"
   ]
  },
  {
   "cell_type": "code",
   "execution_count": 122,
   "metadata": {},
   "outputs": [
    {
     "data": {
      "text/plain": [
       "array([[0.80242716, 0.40219122, 0.73773832, 0.74926805],\n",
       "       [0.40181898, 0.05569412, 0.11380718, 0.94438887],\n",
       "       [0.42661974, 0.18105451, 0.51228193, 0.1302813 ],\n",
       "       [0.87439814, 0.67798568, 0.42422498, 0.35686662],\n",
       "       [0.4552088 , 0.74295475, 0.81587869, 0.43658576]])"
      ]
     },
     "execution_count": 122,
     "metadata": {},
     "output_type": "execute_result"
    }
   ],
   "source": [
    "# Numpy randoms\n",
    "r1 = np.random.random(5)\n",
    "# r1\n",
    "\n",
    "r2 = np.random.permutation(np.arange(6))\n",
    "# r2\n",
    "\n",
    "r3 = np.random.randint(20,30) \n",
    "# r3\n",
    "\n",
    "r4 = np.random.rand(5,4)\n",
    "r4"
   ]
  },
  {
   "cell_type": "code",
   "execution_count": 101,
   "metadata": {},
   "outputs": [
    {
     "data": {
      "text/plain": [
       "(array([1., 0., 0., 1., 0., 1., 4., 1., 1., 0., 1., 1., 1., 0., 1., 1., 2.,\n",
       "        4., 0., 0., 1., 1., 1., 0., 2., 0., 0., 0., 3., 0., 0., 1., 0., 2.,\n",
       "        2., 3., 1., 0., 2., 1., 1., 0., 1., 0., 1., 2., 1., 1., 1., 0., 2.,\n",
       "        1., 1., 0., 2., 1., 3., 0., 1., 0., 1., 0., 3., 1., 1., 1., 1., 3.,\n",
       "        0., 3., 1., 2., 2., 2., 2., 1., 1., 1., 0., 0., 2., 0., 0., 1., 0.,\n",
       "        1., 2., 0., 0., 0., 1., 1., 0., 2., 0., 1., 1., 1., 2.]),\n",
       " array([0.031726  , 0.0410685 , 0.050411  , 0.0597535 , 0.069096  ,\n",
       "        0.0784385 , 0.08778101, 0.09712351, 0.10646601, 0.11580851,\n",
       "        0.12515101, 0.13449351, 0.14383602, 0.15317852, 0.16252102,\n",
       "        0.17186352, 0.18120602, 0.19054852, 0.19989102, 0.20923353,\n",
       "        0.21857603, 0.22791853, 0.23726103, 0.24660353, 0.25594603,\n",
       "        0.26528854, 0.27463104, 0.28397354, 0.29331604, 0.30265854,\n",
       "        0.31200104, 0.32134354, 0.33068605, 0.34002855, 0.34937105,\n",
       "        0.35871355, 0.36805605, 0.37739855, 0.38674105, 0.39608356,\n",
       "        0.40542606, 0.41476856, 0.42411106, 0.43345356, 0.44279606,\n",
       "        0.45213857, 0.46148107, 0.47082357, 0.48016607, 0.48950857,\n",
       "        0.49885107, 0.50819357, 0.51753608, 0.52687858, 0.53622108,\n",
       "        0.54556358, 0.55490608, 0.56424858, 0.57359109, 0.58293359,\n",
       "        0.59227609, 0.60161859, 0.61096109, 0.62030359, 0.62964609,\n",
       "        0.6389886 , 0.6483311 , 0.6576736 , 0.6670161 , 0.6763586 ,\n",
       "        0.6857011 , 0.69504361, 0.70438611, 0.71372861, 0.72307111,\n",
       "        0.73241361, 0.74175611, 0.75109861, 0.76044112, 0.76978362,\n",
       "        0.77912612, 0.78846862, 0.79781112, 0.80715362, 0.81649613,\n",
       "        0.82583863, 0.83518113, 0.84452363, 0.85386613, 0.86320863,\n",
       "        0.87255113, 0.88189364, 0.89123614, 0.90057864, 0.90992114,\n",
       "        0.91926364, 0.92860614, 0.93794864, 0.94729115, 0.95663365]),\n",
       " <BarContainer object of 99 artists>)"
      ]
     },
     "execution_count": 101,
     "metadata": {},
     "output_type": "execute_result"
    },
    {
     "data": {
      "image/png": "[encoded data removed]",
      "text/plain": [
       "<Figure size 432x288 with 1 Axes>"
      ]
     },
     "metadata": {
      "needs_background": "light"
     },
     "output_type": "display_data"
    }
   ],
   "source": [
    "import matplotlib.pyplot as plt\n",
    "\n",
    "r4 = np.random.rand(100)\n",
    "r4\n",
    "\n",
    "plt.hist(r4, bins=99)"
   ]
  },
  {
   "cell_type": "code",
   "execution_count": 102,
   "metadata": {},
   "outputs": [
    {
     "data": {
      "text/plain": [
       "array([1, 2, 3, 4, 5, 6, 7, 8, 9])"
      ]
     },
     "execution_count": 102,
     "metadata": {},
     "output_type": "execute_result"
    }
   ],
   "source": [
    "f = np.arange(1,10)\n",
    "f"
   ]
  },
  {
   "cell_type": "code",
   "execution_count": 108,
   "metadata": {},
   "outputs": [
    {
     "ename": "ValueError",
     "evalue": "cannot reshape array of size 9 into shape (20,4)",
     "output_type": "error",
     "traceback": [
      "\u001b[0;31m---------------------------------------------------------------------------\u001b[0m",
      "\u001b[0;31mValueError\u001b[0m                                Traceback (most recent call last)",
      "\u001b[0;32m<ipython-input-108-f641a078171f>\u001b[0m in \u001b[0;36m<module>\u001b[0;34m\u001b[0m\n\u001b[0;32m----> 1\u001b[0;31m \u001b[0mf\u001b[0m\u001b[0;34m.\u001b[0m\u001b[0mreshape\u001b[0m\u001b[0;34m(\u001b[0m\u001b[0;36m20\u001b[0m\u001b[0;34m,\u001b[0m\u001b[0;36m4\u001b[0m\u001b[0;34m)\u001b[0m\u001b[0;34m\u001b[0m\u001b[0;34m\u001b[0m\u001b[0m\n\u001b[0m",
      "\u001b[0;31mValueError\u001b[0m: cannot reshape array of size 9 into shape (20,4)"
     ]
    }
   ],
   "source": []
  },
  {
   "cell_type": "code",
   "execution_count": null,
   "metadata": {},
   "outputs": [],
   "source": []
  }
 ],
 "metadata": {
  "kernelspec": {
   "display_name": "Python 3",
   "language": "python",
   "name": "python3"
  },
  "language_info": {
   "codemirror_mode": {
    "name": "ipython",
    "version": 3
   },
   "file_extension": ".py",
   "mimetype": "text/x-python",
   "name": "python",
   "nbconvert_exporter": "python",
   "pygments_lexer": "ipython3",
   "version": "3.8.5"
  }
 },
 "nbformat": 4,
 "nbformat_minor": 4
}
