{
 "cells": [
  {
   "cell_type": "code",
   "execution_count": 9,
   "metadata": {},
   "outputs": [
    {
     "name": "stdout",
     "output_type": "stream",
     "text": [
      "Keke\n"
     ]
    }
   ],
   "source": [
    "# Simple Function\n",
    "\n",
    "def keke():\n",
    "    print(\"Keke\")\n",
    "keke()"
   ]
  },
  {
   "cell_type": "code",
   "execution_count": 18,
   "metadata": {},
   "outputs": [
    {
     "name": "stdin",
     "output_type": "stream",
     "text": [
      "Enter the exact name:  kesnel\n"
     ]
    },
    {
     "name": "stdout",
     "output_type": "stream",
     "text": [
      "Yes this me.\n"
     ]
    }
   ],
   "source": [
    "# Using single Parameter in a function\n",
    "\n",
    "name = input(\"Enter the exact name: \")\n",
    "n = \"kesnel\"\n",
    "\n",
    "def people(name):\n",
    "    if name == n:\n",
    "        print(\"Yes this me.\")\n",
    "    else:\n",
    "        print(\"I'm sorry, I don't know you Sir !\")\n",
    "\n",
    "people(name)"
   ]
  },
  {
   "cell_type": "code",
   "execution_count": null,
   "metadata": {},
   "outputs": [],
   "source": []
  }
 ],
 "metadata": {
  "kernelspec": {
   "display_name": "Python 3",
   "language": "python",
   "name": "python3"
  },
  "language_info": {
   "codemirror_mode": {
    "name": "ipython",
    "version": 3
   },
   "file_extension": ".py",
   "mimetype": "text/x-python",
   "name": "python",
   "nbconvert_exporter": "python",
   "pygments_lexer": "ipython3",
   "version": "3.8.5"
  }
 },
 "nbformat": 4,
 "nbformat_minor": 4
}
