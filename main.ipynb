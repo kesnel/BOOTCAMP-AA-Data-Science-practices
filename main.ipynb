{
 "cells": [
  {
   "cell_type": "code",
   "execution_count": 55,
   "metadata": {},
   "outputs": [
    {
     "name": "stdout",
     "output_type": "stream",
     "text": [
      "0123456789\n"
     ]
    }
   ],
   "source": [
    "n = \"0123456789\"\n",
    "n = n[::1]\n",
    "print(n)"
   ]
  },
  {
   "cell_type": "code",
   "execution_count": 90,
   "metadata": {},
   "outputs": [
    {
     "name": "stdout",
     "output_type": "stream",
     "text": [
      "['Hello', 'World', 'Kes', 'Sna']\n"
     ]
    }
   ],
   "source": [
    "a = \"Hello World Kes Sna\"\n",
    "a = a.split(\" \")\n",
    "print(a)"
   ]
  },
  {
   "cell_type": "code",
   "execution_count": 77,
   "metadata": {},
   "outputs": [
    {
     "data": {
      "text/plain": [
       "5"
      ]
     },
     "execution_count": 77,
     "metadata": {},
     "output_type": "execute_result"
    }
   ],
   "source": [
    "# List\n",
    "\n",
    "my_list = ['Keke', 'Sabine', 'Junior', 'Mark', 'Jude']\n",
    "len(my_list)"
   ]
  },
  {
   "cell_type": "code",
   "execution_count": 89,
   "metadata": {},
   "outputs": [
    {
     "name": "stdout",
     "output_type": "stream",
     "text": [
      "['Kesnel']\n"
     ]
    }
   ],
   "source": [
    "# Sorted string\n",
    "\n",
    "a = \"Kesnel\"\n",
    "a = a.split(\"\")\n",
    "print(a)"
   ]
  },
  {
   "cell_type": "code",
   "execution_count": 22,
   "metadata": {},
   "outputs": [
    {
     "data": {
      "text/plain": [
       "{'Name': 'Kesnel',\n",
       " 'Prenom': 'Samuel',\n",
       " 'list': ['a', 'b', 'c', 'd'],\n",
       " 'dik': {'key1': 'Value 1', 'key2': 'Value 2', 'key3': 'Value 3'}}"
      ]
     },
     "execution_count": 22,
     "metadata": {},
     "output_type": "execute_result"
    }
   ],
   "source": [
    "# Dictionnary\n",
    "\n",
    "my_dict = {\n",
    "    \"Name\" : \"Kesnel\",\n",
    "    \"Prenom\" : \"Samuel\",\n",
    "    \"list\" : ['a', 'b', 'c', 'd'],\n",
    "    \"dik\" : {\n",
    "        \"key1\" : \"Value 1\",\n",
    "        \"key2\" : \"Value 2\"\n",
    "    }\n",
    "}\n",
    "my_dict['dik'][\"key3\"] = \"Value 3\"\n",
    "my_dict"
   ]
  },
  {
   "cell_type": "code",
   "execution_count": 37,
   "metadata": {},
   "outputs": [
    {
     "data": {
      "text/plain": [
       "['a', 'b', 'b', 'c', 'c', 'v']"
      ]
     },
     "execution_count": 37,
     "metadata": {},
     "output_type": "execute_result"
    }
   ],
   "source": [
    "# Sets\n",
    "\n",
    "a = [\"a\",\"c\",\"b\",\"v\", \"c\", \"b\"]\n",
    "set(a)\n",
    "a.sort()\n",
    "a"
   ]
  },
  {
   "cell_type": "code",
   "execution_count": null,
   "metadata": {},
   "outputs": [],
   "source": []
  }
 ],
 "metadata": {
  "kernelspec": {
   "display_name": "Python 3",
   "language": "python",
   "name": "python3"
  },
  "language_info": {
   "codemirror_mode": {
    "name": "ipython",
    "version": 3
   },
   "file_extension": ".py",
   "mimetype": "text/x-python",
   "name": "python",
   "nbconvert_exporter": "python",
   "pygments_lexer": "ipython3",
   "version": "3.8.5"
  }
 },
 "nbformat": 4,
 "nbformat_minor": 4
}
