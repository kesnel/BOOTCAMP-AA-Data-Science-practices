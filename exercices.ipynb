{
 "cells": [
  {
   "cell_type": "code",
   "execution_count": 11,
   "metadata": {},
   "outputs": [
    {
     "name": "stdin",
     "output_type": "stream",
     "text": [
      "Enter your username:  kesnel\n",
      "Enter your password:  1234\n"
     ]
    },
    {
     "name": "stdout",
     "output_type": "stream",
     "text": [
      "You are now logged in\n"
     ]
    }
   ],
   "source": [
    "# Basic Login using only conditions and variables\n",
    "\n",
    "in_pseudo = input(\"Enter your username: \")\n",
    "in_password = input(\"Enter your password: \")\n",
    "pseudo = \"kesnel\"\n",
    "password = \"1234\"\n",
    "\n",
    "if in_pseudo == pseudo and in_password == password:\n",
    "    print(\"You are now logged in\")\n",
    "elif in_pseudo != pseudo and in_password != password:\n",
    "    print(\"Bad login informations\")\n",
    "elif in_pseudo != pseudo:\n",
    "    print(\"Username incorrect\")\n",
    "elif in_password != password:\n",
    "    print(\"Password incorrect\")\n",
    "else:\n",
    "    print(\"You can't connect\")"
   ]
  },
  {
   "cell_type": "code",
   "execution_count": null,
   "metadata": {},
   "outputs": [],
   "source": []
  }
 ],
 "metadata": {
  "kernelspec": {
   "display_name": "Python 3",
   "language": "python",
   "name": "python3"
  },
  "language_info": {
   "codemirror_mode": {
    "name": "ipython",
    "version": 3
   },
   "file_extension": ".py",
   "mimetype": "text/x-python",
   "name": "python",
   "nbconvert_exporter": "python",
   "pygments_lexer": "ipython3",
   "version": "3.8.5"
  }
 },
 "nbformat": 4,
 "nbformat_minor": 4
}
