{
 "cells": [
  {
   "cell_type": "code",
   "execution_count": 53,
   "metadata": {},
   "outputs": [
    {
     "name": "stdin",
     "output_type": "stream",
     "text": [
      "Antre chif lan :  10\n"
     ]
    },
    {
     "name": "stdout",
     "output_type": "stream",
     "text": [
      "0\n",
      "1\n",
      "2\n",
      "3\n",
      "4\n",
      "5\n",
      "6\n",
      "7\n",
      "8\n",
      "9\n",
      "10\n",
      "\n",
      "The End\n"
     ]
    }
   ],
   "source": [
    "# Simple Loop\n",
    "\n",
    "n = int(input(\"Antre chif lan : \"))\n",
    "i = 0\n",
    "\n",
    "while i <= n:\n",
    "    print(i)\n",
    "    i += 1\n",
    "print(\"\\nThe End\")"
   ]
  },
  {
   "cell_type": "code",
   "execution_count": 52,
   "metadata": {},
   "outputs": [
    {
     "name": "stdout",
     "output_type": "stream",
     "text": [
      "0\n",
      "1\n",
      "2\n",
      "3\n",
      "4\n",
      "5\n",
      "6\n",
      "\n",
      "The End of the loop\n"
     ]
    }
   ],
   "source": [
    "# Loop with break\n",
    "\n",
    "i = 0\n",
    "n = 12\n",
    "\n",
    "while i <= n:\n",
    "    print(i)\n",
    "    if i == 6:\n",
    "        break\n",
    "    i += 1\n",
    "print(\"\\nThe End of the loop\")"
   ]
  },
  {
   "cell_type": "code",
   "execution_count": 64,
   "metadata": {},
   "outputs": [
    {
     "name": "stdout",
     "output_type": "stream",
     "text": [
      "Kesnel\n",
      "Samuel\n",
      "Junior\n",
      "Jhon\n",
      "Kaleb\n",
      "Papa\n",
      "Sean\n",
      "Chris\n",
      "Yve\n"
     ]
    }
   ],
   "source": [
    "# Loop with continue\n",
    "\n",
    "names = ['Kesnel', 'Samuel', 'Junior', 'Jhon', 'Doe', 'Kaleb', 'Papa', 'Sean', 'Chris', 'Yve']\n",
    "\n",
    "for name in names:\n",
    "    if name == 'Doe':\n",
    "        continue\n",
    "#         break\n",
    "    print(name)"
   ]
  },
  {
   "cell_type": "code",
   "execution_count": 93,
   "metadata": {},
   "outputs": [
    {
     "name": "stdin",
     "output_type": "stream",
     "text": [
      "Antre yon chif :  10\n"
     ]
    },
    {
     "name": "stdout",
     "output_type": "stream",
     "text": [
      "0\n",
      "1\n",
      "2\n",
      "3\n",
      "4\n",
      "5\n",
      "6\n",
      "7\n",
      "8\n",
      "9\n",
      "10\n"
     ]
    }
   ],
   "source": [
    "n = int(input(\"Antre yon chif : \"))\n",
    "i = 0\n",
    "\n",
    "while i <= n:\n",
    "    print(i)\n",
    "    i += 1"
   ]
  },
  {
   "cell_type": "code",
   "execution_count": null,
   "metadata": {},
   "outputs": [],
   "source": []
  }
 ],
 "metadata": {
  "kernelspec": {
   "display_name": "Python 3",
   "language": "python",
   "name": "python3"
  },
  "language_info": {
   "codemirror_mode": {
    "name": "ipython",
    "version": 3
   },
   "file_extension": ".py",
   "mimetype": "text/x-python",
   "name": "python",
   "nbconvert_exporter": "python",
   "pygments_lexer": "ipython3",
   "version": "3.8.5"
  }
 },
 "nbformat": 4,
 "nbformat_minor": 4
}
